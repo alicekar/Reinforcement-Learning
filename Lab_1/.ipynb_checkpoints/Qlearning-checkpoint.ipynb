{
 "cells": [
  {
   "cell_type": "code",
   "execution_count": 1,
   "metadata": {},
   "outputs": [],
   "source": [
    "ROBBER = \"R\"\n",
    "POLICE = \"P\"\n",
    "BANK = \"B\"\n",
    "EMPTY = \"*\"\n",
    "\n",
    "grid = [\n",
    "    [ROBBER,EMPTY,EMPTY,EMPTY],\n",
    "    [EMPTY,BANK,EMPTY,EMPTY],\n",
    "    [EMPTY,EMPTY,EMPTY,EMPTY],\n",
    "    [EMPTY,EMPTY,EMPTY, POLICE]\n",
    "]\n",
    "\n",
    "for row in grid:\n",
    "    print(' '.join(row))"
   ]
  },
  {
   "cell_type": "code",
   "execution_count": 2,
   "metadata": {},
   "outputs": [],
   "source": [
    "class State:\n",
    "    \n",
    "    def __init__(self, robber_pos, police_pos):#(self, grid, robber_pos, police_pos):\n",
    "        #self.grid = grid\n",
    "        self.robber_pos = robber_pos\n",
    "        self.police_pos = police_pos\n",
    "        \n",
    "    def __eq__(self, other):\n",
    "        return isinstance(other, State) and self.robber_pos == other.robber_pos#and self.grid == other.grid and self.robber_pos == other.robber_pos\n",
    "    \n",
    "    def __hash__(self):\n",
    "        return hash(str(self.robber_pos) + str(self.police_pos))#str(self.grid) + str(self.robber_pos))\n",
    "    \n",
    "    def __str__(self):\n",
    "        return f\"State(robber_pos={self.robber_pos})\" #grid={self.grid}, robber_pos={self.robber_pos})\""
   ]
  },
  {
   "cell_type": "code",
   "execution_count": 3,
   "metadata": {},
   "outputs": [],
   "source": [
    "STAY = 0\n",
    "UP = 1\n",
    "DOWN = 2 \n",
    "LEFT = 3\n",
    "RIGHT = 4\n",
    "\n",
    "ACTIONS = [STAY, UP, DOWN, LEFT, RIGHT]\n",
    "\n",
    "REWARD_BANK = 1\n",
    "REWARD_EMPTY = 0\n",
    "REWARD_CAUGHT = -10\n",
    "\n",
    "START_ROBBER = [0,0]\n",
    "START_POLICE = [3,3]"
   ]
  },
  {
   "cell_type": "code",
   "execution_count": 4,
   "metadata": {},
   "outputs": [],
   "source": [
    "start_state = State(robber_pos=START_ROBBER, police_pos=START_POLICE)#grid=grid, robber_pos=START_ROBBER, police_pos=START_POLICE)"
   ]
  },
  {
   "cell_type": "code",
   "execution_count": 5,
   "metadata": {},
   "outputs": [],
   "source": [
    "from copy import deepcopy\n",
    "\n",
    "def act(state,action_robber,action_police):\n",
    "    def new_actor_pos(state,state_actor_pos,action):\n",
    "        p = deepcopy(state_actor_pos)\n",
    "        if action == UP:\n",
    "            p[0] = max(0,p[0]-1)\n",
    "        elif action == DOWN:\n",
    "            p[0] = min(4-1, p[0]+1)\n",
    "        elif action == LEFT:\n",
    "            p[1] = max(0, p[1]-1)\n",
    "        elif action == RIGHT:\n",
    "            p[1] = min(4-1, p[1]+1)\n",
    "        elif action == STAY:\n",
    "            p = p\n",
    "        else:\n",
    "            raise ValueError(f\"Unknown action {action}\")\n",
    "        return p\n",
    "    \n",
    "    pos_robber = new_actor_pos(state,state.robber_pos,action_robber)\n",
    "    pos_police = new_actor_pos(state,state.police_pos,action_police)\n",
    "    \n",
    "    if pos_robber == pos_police:\n",
    "        reward = REWARD_CAUGHT\n",
    "    elif pos_robber == [1,1]:\n",
    "        reward = REWARD_BANK\n",
    "    else:\n",
    "        reward = REWARD_EMPTY\n",
    "        \n",
    "    return State(robber_pos=pos_robber, police_pos=pos_police), reward\n",
    "\n",
    "\n",
    "    "
   ]
  },
  {
   "cell_type": "code",
   "execution_count": 6,
   "metadata": {},
   "outputs": [],
   "source": [
    "import numpy as np\n",
    "import random\n",
    "#r=random.seed(42)\n",
    "\n",
    "N_STATES = 16*16\n",
    "ITERATIONS = 1000000\n",
    "\n",
    "eps = 1#0.2\n",
    "LAMBDA = 0.8\n",
    "\n",
    "q_table = dict()\n"
   ]
  },
  {
   "cell_type": "code",
   "execution_count": 7,
   "metadata": {},
   "outputs": [],
   "source": [
    "def q(state, action_robber=None):\n",
    "    \n",
    "    if state not in q_table:\n",
    "        q_table[state] = np.zeros(len(ACTIONS))\n",
    "    if action_robber is None: \n",
    "        return q_table[state]\n",
    "    \n",
    "    return q_table[state][action_robber]\n",
    "\n"
   ]
  },
  {
   "cell_type": "code",
   "execution_count": 8,
   "metadata": {},
   "outputs": [],
   "source": [
    "def choose_action(state):\n",
    "    pos_robber = state.robber_pos\n",
    "    pos_police = state.police_pos\n",
    "    if pos_police[0] == 0:\n",
    "        if pos_police[1] == 0:\n",
    "            action_police = random.choice([ACTIONS[2],ACTIONS[4]])\n",
    "        elif pos_police[1] == 3:\n",
    "            action_police = random.choice([ACTIONS[2],ACTIONS[3]])\n",
    "        else:\n",
    "            action_police = random.choice(ACTIONS[2:5])\n",
    "    elif pos_police[0] == 3:\n",
    "        if pos_police[1] == 0:\n",
    "            action_police = random.choice([ACTIONS[1],ACTIONS[4]])\n",
    "        elif pos_police[1] == 3:\n",
    "            action_police = random.choice([ACTIONS[1],ACTIONS[3]])\n",
    "        else:\n",
    "            action_police = random.choice([ACTIONS[1],ACTIONS[3],ACTIONS[4]])\n",
    "    elif pos_police[1] == 0:\n",
    "        action_police = random.choice([ACTIONS[1],ACTIONS[2],ACTIONS[4]])\n",
    "    elif pos_police[1] == 3:\n",
    "        action_police = random.choice(ACTIONS[1:4])\n",
    "    else: \n",
    "        action_police = random.choice(ACTIONS[1:])\n",
    "        \n",
    "    if random.uniform(0, 1) < eps:   \n",
    "        if pos_robber[0] == 0:\n",
    "            if pos_robber[1] == 0:\n",
    "                action_robber = random.choice([ACTIONS[0],ACTIONS[2],ACTIONS[4]])\n",
    "            elif pos_robber[1] == 3:\n",
    "                action_robber = random.choice([ACTIONS[0],ACTIONS[2],ACTIONS[3]])\n",
    "            else:\n",
    "                action_robber = random.choice([ACTIONS[0],ACTIONS[2],ACTIONS[3],ACTIONS[4]])\n",
    "        elif pos_robber[0] == 3:\n",
    "            if pos_robber[1] == 0:\n",
    "                action_robber = random.choice([ACTIONS[0],ACTIONS[1],ACTIONS[4]])\n",
    "            elif pos_robber[1] == 3:\n",
    "                action_robber = random.choice([ACTIONS[0],ACTIONS[1],ACTIONS[3]])\n",
    "            else:\n",
    "                action_robber = random.choice([ACTIONS[0],ACTIONS[1],ACTIONS[3],ACTIONS[4]])\n",
    "        elif pos_robber[1] == 0:\n",
    "            action_robber = random.choice([ACTIONS[0],ACTIONS[1],ACTIONS[2],ACTIONS[4]])\n",
    "        elif pos_robber[1] == 3:\n",
    "            action_robber = random.choice(ACTIONS[0:4])\n",
    "        else: \n",
    "            action_robber = random.choice(ACTIONS)\n",
    "    else:\n",
    "        action_robber = np.argmax(q(state))\n",
    "    \n",
    "    return action_robber, action_police\n"
   ]
  },
  {
   "cell_type": "code",
   "execution_count": 9,
   "metadata": {},
   "outputs": [],
   "source": [
    "def state_matrix(state):\n",
    "    pos_police = state.police_pos\n",
    "    pos_robber = state.robber_pos\n",
    "    index_matrix = np.arange(16).reshape((4,4))\n",
    "    state_index_matrix = np.arange(16*16).reshape((16,16))\n",
    "    row_r = index_matrix[pos_robber[0]][pos_robber[1]]\n",
    "    col_p = index_matrix[pos_police[0]][pos_police[1]]\n",
    "    state_index = state_index_matrix[row_r][col_p]\n",
    "    return(state_index)\n"
   ]
  },
  {
   "cell_type": "code",
   "execution_count": 10,
   "metadata": {},
   "outputs": [
    {
     "ename": "SyntaxError",
     "evalue": "invalid syntax (<ipython-input-10-89cabf68e99e>, line 1)",
     "output_type": "error",
     "traceback": [
      "\u001b[0;36m  File \u001b[0;32m\"<ipython-input-10-89cabf68e99e>\"\u001b[0;36m, line \u001b[0;32m1\u001b[0m\n\u001b[0;31m    def get_policy:\u001b[0m\n\u001b[0m                  ^\u001b[0m\n\u001b[0;31mSyntaxError\u001b[0m\u001b[0;31m:\u001b[0m invalid syntax\n"
     ]
    }
   ],
   "source": [
    "def get_policy():\n",
    "    # argmax(q)\n",
    "    # ta ut en col o reshapa till 4x4 för o se när polis står still\n",
    "    #\n",
    "    k = 0\n",
    "    return k"
   ]
  },
  {
   "cell_type": "code",
   "execution_count": null,
   "metadata": {},
   "outputs": [],
   "source": [
    "state = start_state\n",
    "total_reward = 0\n",
    "\n",
    "values = []\n",
    "times = []\n",
    "\n",
    "n_updates_Q = np.zeros((len(ACTIONS),16*16))\n",
    "for t in range(ITERATIONS):\n",
    "    \n",
    "    action_robber, action_police = choose_action(state)\n",
    "    next_state, reward = act(state, action_robber, action_police)\n",
    "    total_reward += reward\n",
    "\n",
    "    state_index = state_matrix(state)\n",
    "    n_updates_Q[action_robber][state_index] += 1\n",
    "    \n",
    "    alpha = 1/(n_updates_Q[action_robber][state_index]**(2/3))\n",
    "    \n",
    "    q(state)[action_robber] = q(state, action_robber) + \\\n",
    "            alpha * (reward + LAMBDA *  np.max(q(next_state)) - q(state, action_robber))\n",
    "\n",
    "    state = next_state\n",
    "    if t%10000==0:\n",
    "        values.append(q(state)[action_robber])\n",
    "        #values.append(total_reward)\n",
    "        times.append(t)\n",
    "        #print(total_reward)\n",
    "        #print(t)\n",
    "        #print(q(state)[action_robber])\n"
   ]
  },
  {
   "cell_type": "code",
   "execution_count": null,
   "metadata": {},
   "outputs": [],
   "source": [
    "%matplotlib inline\n",
    "import matplotlib.pyplot as plt\n",
    "\n",
    "plt.plot(times,values,'b')\n",
    "plt.show()"
   ]
  },
  {
   "cell_type": "code",
   "execution_count": null,
   "metadata": {},
   "outputs": [],
   "source": [
    "print(len(q_table))\n"
   ]
  }
 ],
 "metadata": {
  "kernelspec": {
   "display_name": "Python 3",
   "language": "python",
   "name": "python3"
  },
  "language_info": {
   "codemirror_mode": {
    "name": "ipython",
    "version": 3
   },
   "file_extension": ".py",
   "mimetype": "text/x-python",
   "name": "python",
   "nbconvert_exporter": "python",
   "pygments_lexer": "ipython3",
   "version": "3.7.1"
  }
 },
 "nbformat": 4,
 "nbformat_minor": 2
}
