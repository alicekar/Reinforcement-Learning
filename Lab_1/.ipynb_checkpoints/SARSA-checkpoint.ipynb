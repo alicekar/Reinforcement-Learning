{
 "cells": [
  {
   "cell_type": "code",
   "execution_count": 1,
   "metadata": {},
   "outputs": [
    {
     "name": "stdout",
     "output_type": "stream",
     "text": [
      "R * * *\n",
      "* B * *\n",
      "* * * *\n",
      "* * * P\n"
     ]
    }
   ],
   "source": [
    "ROBBER = \"R\"\n",
    "POLICE = \"P\"\n",
    "BANK = \"B\"\n",
    "EMPTY = \"*\"\n",
    "\n",
    "grid = [\n",
    "    [ROBBER,EMPTY,EMPTY,EMPTY],\n",
    "    [EMPTY,BANK,EMPTY,EMPTY],\n",
    "    [EMPTY,EMPTY,EMPTY,EMPTY],\n",
    "    [EMPTY,EMPTY,EMPTY, POLICE]\n",
    "]\n",
    "\n",
    "for row in grid:\n",
    "    print(' '.join(row))"
   ]
  },
  {
   "cell_type": "code",
   "execution_count": 2,
   "metadata": {},
   "outputs": [],
   "source": [
    "class State:\n",
    "    \n",
    "    def __init__(self, robber_pos, police_pos):\n",
    "        self.robber_pos = robber_pos\n",
    "        self.police_pos = police_pos\n",
    "        \n",
    "    def __eq__(self, other):\n",
    "        return isinstance(other, State) and self.robber_pos == other.robber_pos and self.police_pos == other.police_pos\n",
    "    \n",
    "    def __hash__(self):\n",
    "        return hash(str(self.robber_pos) + str(self.police_pos))\n",
    "    \n",
    "    def __str__(self):\n",
    "        return f\"State(robber_pos={self.robber_pos}, police_pos={self.police_pos})\""
   ]
  },
  {
   "cell_type": "code",
   "execution_count": 3,
   "metadata": {},
   "outputs": [],
   "source": [
    "STAY = 0\n",
    "UP = 1\n",
    "DOWN = 2 \n",
    "LEFT = 3\n",
    "RIGHT = 4\n",
    "\n",
    "ACTIONS = [STAY, UP, DOWN, LEFT, RIGHT]\n",
    "\n",
    "REWARD_BANK = 1\n",
    "REWARD_EMPTY = 0\n",
    "REWARD_CAUGHT = -10\n",
    "\n",
    "START_ROBBER = [0,0]\n",
    "START_POLICE = [3,3]"
   ]
  },
  {
   "cell_type": "code",
   "execution_count": 4,
   "metadata": {},
   "outputs": [],
   "source": [
    "start_state = State(robber_pos=START_ROBBER, police_pos=START_POLICE)"
   ]
  },
  {
   "cell_type": "code",
   "execution_count": 5,
   "metadata": {},
   "outputs": [],
   "source": [
    "from copy import deepcopy\n",
    "\n",
    "def act(state,action_robber,action_police):\n",
    "    def new_actor_pos(state,state_actor_pos,action):\n",
    "        p = deepcopy(state_actor_pos)\n",
    "        if action == UP:\n",
    "            p[0] = max(0,p[0]-1)\n",
    "        elif action == DOWN:\n",
    "            p[0] = min(3, p[0]+1)\n",
    "        elif action == LEFT:\n",
    "            p[1] = max(0, p[1]-1)\n",
    "        elif action == RIGHT:\n",
    "            p[1] = min(3, p[1]+1)\n",
    "        elif action == STAY:\n",
    "            p = p\n",
    "        else:\n",
    "            raise ValueError(f\"Unknown action {action}\")\n",
    "        return p\n",
    "    \n",
    "    pos_robber = new_actor_pos(state,state.robber_pos,action_robber)\n",
    "    pos_police = new_actor_pos(state,state.police_pos,action_police)\n",
    "    \n",
    "    if pos_robber == pos_police:\n",
    "        reward = REWARD_CAUGHT\n",
    "    elif pos_robber == [1,1]:\n",
    "        reward = REWARD_BANK\n",
    "    else:\n",
    "        reward = REWARD_EMPTY\n",
    "        \n",
    "    return State(robber_pos=pos_robber, police_pos=pos_police), reward\n",
    "\n",
    "\n",
    "    "
   ]
  },
  {
   "cell_type": "code",
   "execution_count": 6,
   "metadata": {},
   "outputs": [],
   "source": [
    "import numpy as np\n",
    "import random\n",
    "random.seed(42)\n",
    "\n",
    "N_STATES = 16*16\n",
    "ITERATIONS = 1000000#0\n",
    "\n",
    "eps = 0.1\n",
    "LAMBDA = 0.8\n",
    "\n",
    "q_table = dict()\n"
   ]
  },
  {
   "cell_type": "code",
   "execution_count": 7,
   "metadata": {},
   "outputs": [],
   "source": [
    "def q(state, action_robber=None):\n",
    "    \n",
    "    if state not in q_table:\n",
    "        q_table[state] = np.zeros(len(ACTIONS))\n",
    "    if action_robber is None: \n",
    "        return q_table[state]\n",
    "    \n",
    "    return q_table[state][action_robber]\n",
    "\n"
   ]
  },
  {
   "cell_type": "code",
   "execution_count": 8,
   "metadata": {},
   "outputs": [],
   "source": [
    "def choose_action(state):\n",
    "    pos_robber = state.robber_pos\n",
    "    pos_police = state.police_pos\n",
    "    if pos_police[0] == 0:\n",
    "        if pos_police[1] == 0:\n",
    "            action_police = random.choice([ACTIONS[2],ACTIONS[4]])\n",
    "        elif pos_police[1] == 3:\n",
    "            action_police = random.choice([ACTIONS[2],ACTIONS[3]])\n",
    "        else:\n",
    "            action_police = random.choice(ACTIONS[2:5])\n",
    "    elif pos_police[0] == 3:\n",
    "        if pos_police[1] == 0:\n",
    "            action_police = random.choice([ACTIONS[1],ACTIONS[4]])\n",
    "        elif pos_police[1] == 3:\n",
    "            action_police = random.choice([ACTIONS[1],ACTIONS[3]])\n",
    "        else:\n",
    "            action_police = random.choice([ACTIONS[1],ACTIONS[3],ACTIONS[4]])\n",
    "    elif pos_police[1] == 0:\n",
    "        action_police = random.choice([ACTIONS[1],ACTIONS[2],ACTIONS[4]])\n",
    "    elif pos_police[1] == 3:\n",
    "        action_police = random.choice(ACTIONS[1:4])\n",
    "    else: \n",
    "        action_police = random.choice(ACTIONS[1:])\n",
    "        \n",
    "    if random.uniform(0, 1) < eps:   \n",
    "        if pos_robber[0] == 0:\n",
    "            if pos_robber[1] == 0:\n",
    "                action_robber = random.choice([ACTIONS[0],ACTIONS[2],ACTIONS[4]])\n",
    "            elif pos_robber[1] == 3:\n",
    "                action_robber = random.choice([ACTIONS[0],ACTIONS[2],ACTIONS[3]])\n",
    "            else:\n",
    "                action_robber = random.choice([ACTIONS[0],ACTIONS[2],ACTIONS[3],ACTIONS[4]])\n",
    "        elif pos_robber[0] == 3:\n",
    "            if pos_robber[1] == 0:\n",
    "                action_robber = random.choice([ACTIONS[0],ACTIONS[1],ACTIONS[4]])\n",
    "            elif pos_robber[1] == 3:\n",
    "                action_robber = random.choice([ACTIONS[0],ACTIONS[1],ACTIONS[3]])\n",
    "            else:\n",
    "                action_robber = random.choice([ACTIONS[0],ACTIONS[1],ACTIONS[3],ACTIONS[4]])\n",
    "        elif pos_robber[1] == 0:\n",
    "            action_robber = random.choice([ACTIONS[0],ACTIONS[1],ACTIONS[2],ACTIONS[4]])\n",
    "        elif pos_robber[1] == 3:\n",
    "            action_robber = random.choice(ACTIONS[0:4])\n",
    "        else: \n",
    "            action_robber = random.choice(ACTIONS)\n",
    "    else:\n",
    "        action_robber = np.argmax(q(state))\n",
    "    \n",
    "    return action_robber, action_police\n"
   ]
  },
  {
   "cell_type": "code",
   "execution_count": 9,
   "metadata": {},
   "outputs": [],
   "source": [
    "index_matrix = np.arange(16).reshape((4,4))\n",
    "state_index_matrix = np.arange(16*16).reshape((16,16))\n",
    "policy_matrix = np.zeros((16,16))+10 # 10, to make sure an action is choosen in all states\n",
    "\n",
    "def state_matrix(state):\n",
    "    pos_police = state.police_pos\n",
    "    pos_robber = state.robber_pos\n",
    "    # police along rows, robber along columns\n",
    "    col_r = index_matrix[pos_robber[0]][pos_robber[1]]\n",
    "    row_p = index_matrix[pos_police[0]][pos_police[1]]\n",
    "    state_index = state_index_matrix[row_p][col_r]\n",
    "    \n",
    "    best_move = np.argmax(q(state))\n",
    "    policy_matrix[row_p][col_r] = best_move\n",
    "    \n",
    "    return(state_index)"
   ]
  },
  {
   "cell_type": "code",
   "execution_count": 10,
   "metadata": {},
   "outputs": [
    {
     "name": "stdout",
     "output_type": "stream",
     "text": [
      "[[2.600e+01 4.200e+01 9.700e+01 ... 1.000e+00 2.000e+00 2.000e+00]\n",
      " [0.000e+00 2.000e+00 0.000e+00 ... 4.100e+01 8.000e+00 0.000e+00]\n",
      " [2.000e+00 1.528e+03 1.000e+00 ... 0.000e+00 0.000e+00 0.000e+00]\n",
      " [0.000e+00 4.600e+01 4.000e+00 ... 1.000e+00 0.000e+00 0.000e+00]\n",
      " [4.000e+00 4.000e+01 2.000e+00 ... 1.000e+00 0.000e+00 0.000e+00]]\n"
     ]
    }
   ],
   "source": [
    "# SARSA Algorithm\n",
    "\n",
    "state = start_state\n",
    "action_robber, action_police = choose_action(start_state)\n",
    "total_reward = 0\n",
    "\n",
    "values = []\n",
    "times = []\n",
    "rewards = []\n",
    "\n",
    "n_updates_Q = np.zeros((len(ACTIONS),16*16))\n",
    "\n",
    "for t in range(ITERATIONS):\n",
    "    next_state, reward = act(state, action_robber, action_police)\n",
    "    next_action_robber, next_action_police = choose_action(next_state)\n",
    "    \n",
    "    total_reward += reward\n",
    "\n",
    "    state_index = state_matrix(state)\n",
    "    n_updates_Q[action_robber][state_index] += 1\n",
    "    \n",
    "    alpha = 1/(n_updates_Q[action_robber][state_index]**(2/3))\n",
    "    \n",
    "    q(state)[action_robber] = q(state, action_robber) + \\\n",
    "            alpha * (reward + LAMBDA *q(next_state,next_action_robber) - q(state, action_robber))\n",
    "\n",
    "    state = next_state\n",
    "    action_robber = next_action_robber\n",
    "    action_police = next_action_police\n",
    "    \n",
    "    if t%1000==0:\n",
    "        # Look at the first state taking the action with max q value\n",
    "        values.append(max(q(start_state)))\n",
    "        times.append(t)\n",
    "        rewards.append(total_reward)\n",
    "        #print(max(q(start_state)))\n",
    "        #print(t) \n",
    "\n",
    "\n",
    "\n",
    "print(n_updates_Q)"
   ]
  },
  {
   "cell_type": "code",
   "execution_count": 11,
   "metadata": {},
   "outputs": [
    {
     "data": {
      "image/png": "[encoded data removed]",
      "text/plain": [
       "<Figure size 432x288 with 1 Axes>"
      ]
     },
     "metadata": {
      "needs_background": "light"
     },
     "output_type": "display_data"
    },
    {
     "data": {
      "image/png": "[encoded data removed]",
      "text/plain": [
       "<Figure size 432x288 with 1 Axes>"
      ]
     },
     "metadata": {
      "needs_background": "light"
     },
     "output_type": "display_data"
    }
   ],
   "source": [
    "%matplotlib inline\n",
    "import matplotlib.pyplot as plt\n",
    "\n",
    "plt.plot(times,values,'b')\n",
    "plt.title(\"SARSA\")\n",
    "plt.xlabel(\"Time\")\n",
    "plt.ylabel(\"Q-value\")\n",
    "plt.show()\n",
    "\n",
    "plt.plot(times,rewards,'r')\n",
    "plt.title(\"SARSA\")\n",
    "plt.xlabel(\"Time\")\n",
    "plt.ylabel(\"Total reward\")\n",
    "plt.show()"
   ]
  },
  {
   "cell_type": "code",
   "execution_count": 12,
   "metadata": {},
   "outputs": [
    {
     "name": "stdout",
     "output_type": "stream",
     "text": [
      "256\n"
     ]
    }
   ],
   "source": [
    "print(len(q_table))"
   ]
  },
  {
   "cell_type": "code",
   "execution_count": 13,
   "metadata": {},
   "outputs": [
    {
     "name": "stdout",
     "output_type": "stream",
     "text": [
      "[[4. 2. 0. 3. 4. 0. 3. 3. 0. 1. 1. 3. 4. 0. 0. 0.]\n",
      " [4. 0. 2. 0. 0. 2. 0. 3. 1. 0. 3. 3. 1. 1. 3. 0.]\n",
      " [2. 2. 0. 3. 4. 0. 3. 0. 0. 1. 3. 3. 1. 1. 3. 0.]\n",
      " [2. 2. 2. 1. 4. 0. 3. 3. 1. 1. 3. 0. 1. 1. 1. 0.]\n",
      " [2. 0. 2. 3. 0. 4. 0. 3. 1. 0. 3. 0. 0. 1. 1. 3.]\n",
      " [1. 2. 0. 3. 4. 0. 3. 0. 0. 1. 0. 1. 0. 0. 0. 0.]\n",
      " [2. 0. 3. 3. 0. 3. 0. 3. 1. 0. 3. 0. 1. 1. 3. 0.]\n",
      " [0. 2. 1. 3. 4. 0. 3. 0. 4. 1. 0. 3. 4. 1. 3. 0.]\n",
      " [4. 2. 3. 2. 4. 0. 3. 3. 0. 1. 0. 0. 1. 0. 0. 0.]\n",
      " [4. 0. 3. 0. 0. 1. 0. 3. 1. 0. 3. 0. 0. 1. 0. 0.]\n",
      " [4. 2. 3. 3. 4. 0. 3. 0. 0. 1. 0. 1. 0. 0. 3. 0.]\n",
      " [2. 2. 3. 0. 4. 0. 3. 3. 1. 1. 3. 0. 4. 0. 0. 1.]\n",
      " [2. 2. 3. 3. 4. 0. 3. 3. 1. 1. 3. 3. 0. 1. 0. 1.]\n",
      " [4. 2. 3. 3. 4. 0. 3. 0. 1. 1. 1. 3. 1. 0. 4. 0.]\n",
      " [2. 2. 3. 3. 4. 0. 3. 0. 1. 1. 1. 0. 0. 1. 1. 3.]\n",
      " [4. 2. 0. 0. 4. 0. 3. 3. 1. 1. 3. 1. 1. 1. 1. 0.]]\n",
      "[[1. 2. 0. 3.]\n",
      " [4. 9. 3. 0.]\n",
      " [0. 1. 0. 1.]\n",
      " [0. 0. 0. 0.]]\n"
     ]
    }
   ],
   "source": [
    "def get_spec_policy(grid_index_police):\n",
    "    print(policy_matrix)\n",
    "    fixed_police = policy_matrix[grid_index_police]\n",
    "    fixed_police_policy = fixed_police.reshape(4,4)\n",
    "    police_idx = np.where(index_matrix==grid_index_police)\n",
    "    fixed_police_policy[police_idx[0][0]][police_idx[1][0]] = 9\n",
    "    print(fixed_police_policy)\n",
    "get_spec_policy(5)"
   ]
  }
 ],
 "metadata": {
  "kernelspec": {
   "display_name": "Python 3",
   "language": "python",
   "name": "python3"
  },
  "language_info": {
   "codemirror_mode": {
    "name": "ipython",
    "version": 3
   },
   "file_extension": ".py",
   "mimetype": "text/x-python",
   "name": "python",
   "nbconvert_exporter": "python",
   "pygments_lexer": "ipython3",
   "version": "3.7.1"
  }
 },
 "nbformat": 4,
 "nbformat_minor": 2
}
